{
 "cells": [
  {
   "cell_type": "code",
   "execution_count": 2,
   "id": "53b9f4b6",
   "metadata": {},
   "outputs": [],
   "source": [
    "import pandas as pd"
   ]
  },
  {
   "cell_type": "code",
   "execution_count": 3,
   "id": "e2cc49e3",
   "metadata": {},
   "outputs": [],
   "source": [
    "import numpy as np"
   ]
  },
  {
   "cell_type": "code",
   "execution_count": 4,
   "id": "1daa5a70",
   "metadata": {},
   "outputs": [],
   "source": [
    "from sklearn.datasets import load_iris"
   ]
  },
  {
   "cell_type": "markdown",
   "id": "51e4803e",
   "metadata": {},
   "source": [
    "# Ejercicio 1"
   ]
  },
  {
   "cell_type": "code",
   "execution_count": 5,
   "id": "a171315f",
   "metadata": {
    "scrolled": true
   },
   "outputs": [],
   "source": [
    "iris = load_iris()"
   ]
  },
  {
   "cell_type": "code",
   "execution_count": 6,
   "id": "bb082b81",
   "metadata": {},
   "outputs": [],
   "source": [
    "data = iris.data"
   ]
  },
  {
   "cell_type": "code",
   "execution_count": 7,
   "id": "51334c53",
   "metadata": {
    "scrolled": true
   },
   "outputs": [
    {
     "data": {
      "text/plain": [
       "array([[5.1, 3.5, 1.4, 0.2],\n",
       "       [4.9, 3. , 1.4, 0.2],\n",
       "       [4.7, 3.2, 1.3, 0.2],\n",
       "       [4.6, 3.1, 1.5, 0.2],\n",
       "       [5. , 3.6, 1.4, 0.2],\n",
       "       [5.4, 3.9, 1.7, 0.4],\n",
       "       [4.6, 3.4, 1.4, 0.3],\n",
       "       [5. , 3.4, 1.5, 0.2],\n",
       "       [4.4, 2.9, 1.4, 0.2],\n",
       "       [4.9, 3.1, 1.5, 0.1]])"
      ]
     },
     "execution_count": 7,
     "metadata": {},
     "output_type": "execute_result"
    }
   ],
   "source": [
    "data[:10]"
   ]
  },
  {
   "cell_type": "code",
   "execution_count": 8,
   "id": "90d293f8",
   "metadata": {},
   "outputs": [],
   "source": [
    "target = iris.target"
   ]
  },
  {
   "cell_type": "code",
   "execution_count": 9,
   "id": "d6e69c40",
   "metadata": {},
   "outputs": [],
   "source": [
    "feature_names = iris.feature_names"
   ]
  },
  {
   "cell_type": "code",
   "execution_count": 10,
   "id": "1b200f0b",
   "metadata": {},
   "outputs": [],
   "source": [
    "target_names = iris.target_names"
   ]
  },
  {
   "cell_type": "code",
   "execution_count": 11,
   "id": "5eea2b36",
   "metadata": {},
   "outputs": [],
   "source": [
    "sepal_length_index = feature_names.index(\"sepal length (cm)\")\n",
    "sepal_width_index = feature_names.index(\"sepal width (cm)\")\n",
    "petal_length_index = feature_names.index(\"petal length (cm)\")\n",
    "petal_width_index = feature_names.index(\"petal width (cm)\")"
   ]
  },
  {
   "cell_type": "code",
   "execution_count": 12,
   "id": "882efd08",
   "metadata": {},
   "outputs": [],
   "source": [
    "sepal_length = data[:, sepal_length_index]\n",
    "sepal_width = data[:, sepal_width_index]\n",
    "petal_length = data[:, petal_length_index]\n",
    "petal_width = data[:, petal_width_index]"
   ]
  },
  {
   "cell_type": "code",
   "execution_count": 13,
   "id": "6756583e",
   "metadata": {},
   "outputs": [
    {
     "data": {
      "text/plain": [
       "['sepal length (cm)',\n",
       " 'sepal width (cm)',\n",
       " 'petal length (cm)',\n",
       " 'petal width (cm)']"
      ]
     },
     "execution_count": 13,
     "metadata": {},
     "output_type": "execute_result"
    }
   ],
   "source": [
    "feature_names"
   ]
  },
  {
   "cell_type": "code",
   "execution_count": 14,
   "id": "aff79ffe",
   "metadata": {},
   "outputs": [
    {
     "data": {
      "text/plain": [
       "array(['setosa', 'versicolor', 'virginica'], dtype='<U10')"
      ]
     },
     "execution_count": 14,
     "metadata": {},
     "output_type": "execute_result"
    }
   ],
   "source": [
    "target_names"
   ]
  },
  {
   "cell_type": "code",
   "execution_count": 15,
   "id": "659f3c9c",
   "metadata": {},
   "outputs": [
    {
     "data": {
      "text/plain": [
       "array([0, 0, 0, 0, 0, 0, 0, 0, 0, 0])"
      ]
     },
     "execution_count": 15,
     "metadata": {},
     "output_type": "execute_result"
    }
   ],
   "source": [
    "target[:10]"
   ]
  },
  {
   "cell_type": "markdown",
   "id": "a212d027",
   "metadata": {},
   "source": [
    "# Ejercicio 2"
   ]
  },
  {
   "cell_type": "code",
   "execution_count": 16,
   "id": "3bce74ba",
   "metadata": {},
   "outputs": [],
   "source": [
    "concat = np.concatenate((data, target.reshape(-1, 1)), axis=1)"
   ]
  },
  {
   "cell_type": "code",
   "execution_count": 17,
   "id": "43fa2711",
   "metadata": {},
   "outputs": [
    {
     "data": {
      "text/plain": [
       "array([[5.1, 3.5, 1.4, 0.2, 0. ],\n",
       "       [4.9, 3. , 1.4, 0.2, 0. ],\n",
       "       [4.7, 3.2, 1.3, 0.2, 0. ],\n",
       "       [4.6, 3.1, 1.5, 0.2, 0. ],\n",
       "       [5. , 3.6, 1.4, 0.2, 0. ]])"
      ]
     },
     "execution_count": 17,
     "metadata": {},
     "output_type": "execute_result"
    }
   ],
   "source": [
    "concat[:5]"
   ]
  },
  {
   "cell_type": "markdown",
   "id": "0b92c1cb",
   "metadata": {},
   "source": [
    "# Ejercicio 3"
   ]
  },
  {
   "cell_type": "code",
   "execution_count": 18,
   "id": "ba58ab9f",
   "metadata": {},
   "outputs": [],
   "source": [
    "media_sepalos = round(np.mean(sepal_length), 2)"
   ]
  },
  {
   "cell_type": "code",
   "execution_count": 19,
   "id": "80f7ec9b",
   "metadata": {},
   "outputs": [
    {
     "name": "stdout",
     "output_type": "stream",
     "text": [
      "La media de longitud de los sepalos es 5.84 cm\n"
     ]
    }
   ],
   "source": [
    "print (\"La media de longitud de los sepalos es\", media_sepalos, \"cm\")"
   ]
  },
  {
   "cell_type": "code",
   "execution_count": 20,
   "id": "bcbda096",
   "metadata": {},
   "outputs": [],
   "source": [
    "media_petalos = round(np.mean(petal_length), 2)"
   ]
  },
  {
   "cell_type": "code",
   "execution_count": 21,
   "id": "18711d76",
   "metadata": {},
   "outputs": [
    {
     "name": "stdout",
     "output_type": "stream",
     "text": [
      "La media de longitud de los petalos es 3.76 cm\n"
     ]
    }
   ],
   "source": [
    "print (\"La media de longitud de los petalos es\", media_petalos, \"cm\")"
   ]
  },
  {
   "cell_type": "code",
   "execution_count": 22,
   "id": "b4c6879b",
   "metadata": {
    "scrolled": true
   },
   "outputs": [
    {
     "name": "stdout",
     "output_type": "stream",
     "text": [
      "La desviación de los sepalos es de 0.83 cm\n"
     ]
    }
   ],
   "source": [
    "print (\"La desviación de los sepalos es de\", round(np.std(sepal_length), 2), \"cm\")"
   ]
  },
  {
   "cell_type": "code",
   "execution_count": 23,
   "id": "515bf923",
   "metadata": {},
   "outputs": [
    {
     "name": "stdout",
     "output_type": "stream",
     "text": [
      "La desviación de los petalos es de 1.76 cm\n"
     ]
    }
   ],
   "source": [
    "print (\"La desviación de los petalos es de\", round(np.std(petal_length), 2), \"cm\")"
   ]
  },
  {
   "cell_type": "markdown",
   "id": "ecd5524f",
   "metadata": {},
   "source": [
    "# Ejercicio 4"
   ]
  },
  {
   "cell_type": "code",
   "execution_count": 24,
   "id": "8be5cbf6",
   "metadata": {},
   "outputs": [],
   "source": [
    "from numpy import random"
   ]
  },
  {
   "cell_type": "code",
   "execution_count": 25,
   "id": "69ac4c23",
   "metadata": {},
   "outputs": [
    {
     "data": {
      "text/plain": [
       "array([136, 140,  65,  64,  93,  87,  97,   7,  71,  58,  54,  78, 135,\n",
       "        98, 123,  83, 133,  86,  69, 103])"
      ]
     },
     "execution_count": 25,
     "metadata": {},
     "output_type": "execute_result"
    }
   ],
   "source": [
    "np.random.choice(concat.shape[0], 20, replace=False)"
   ]
  },
  {
   "cell_type": "markdown",
   "id": "523dcc8b",
   "metadata": {},
   "source": [
    "# Ejercicio 5"
   ]
  },
  {
   "cell_type": "code",
   "execution_count": 26,
   "id": "38609b6f",
   "metadata": {},
   "outputs": [
    {
     "name": "stdout",
     "output_type": "stream",
     "text": [
      "Media de cada característica por especie:\n",
      "[[5.006 3.428 1.462 0.246]\n",
      " [5.936 2.77  4.26  1.326]\n",
      " [6.588 2.974 5.552 2.026]]\n",
      "\n",
      "Desviación estándar de cada característica por especie:\n",
      "[[0.34894699 0.37525458 0.17191859 0.10432641]\n",
      " [0.51098337 0.31064449 0.46518813 0.19576517]\n",
      " [0.62948868 0.31925538 0.54634787 0.27188968]]\n"
     ]
    }
   ],
   "source": [
    "species_names = np.unique(iris.target_names)\n",
    "\n",
    "mean_matrix = np.zeros((len(species_names), len(feature_names)))\n",
    "std_matrix = np.zeros((len(species_names), len(feature_names)))\n",
    "\n",
    "for i, species in enumerate(species_names):\n",
    "    indices = (target == i)\n",
    "    subset_data = data[indices, :]\n",
    "    mean_matrix[i, :] = np.mean(subset_data, axis=0)\n",
    "    std_matrix[i, :] = np.std(subset_data, axis=0)\n",
    "\n",
    "print(\"Media de cada característica por especie:\")\n",
    "print(mean_matrix)\n",
    "\n",
    "print(\"\\nDesviación estándar de cada característica por especie:\")\n",
    "print(std_matrix)"
   ]
  },
  {
   "cell_type": "markdown",
   "id": "a3b7587e",
   "metadata": {},
   "source": [
    "# Ejercicio 6"
   ]
  },
  {
   "cell_type": "code",
   "execution_count": 27,
   "id": "4c8b793c",
   "metadata": {
    "scrolled": true
   },
   "outputs": [
    {
     "name": "stdout",
     "output_type": "stream",
     "text": [
      "Cantidad de muestras por especie:\n",
      "setosa: 50\n",
      "versicolor: 50\n",
      "virginica: 50\n"
     ]
    }
   ],
   "source": [
    "especies = iris.target_names[iris.target]\n",
    "\n",
    "conteo_por_especie = np.unique(especies, return_counts=True)\n",
    "\n",
    "print(\"Cantidad de muestras por especie:\")\n",
    "for tr, cantidad in zip(conteo_por_especie[0], conteo_por_especie[1]):\n",
    "    print(f\"{tr}: {cantidad}\")"
   ]
  },
  {
   "cell_type": "code",
   "execution_count": 28,
   "id": "ac921cf2",
   "metadata": {},
   "outputs": [],
   "source": [
    "indice_max_promedio_petal_length = np.argmax(mean_matrix[:, petal_length_index])"
   ]
  },
  {
   "cell_type": "code",
   "execution_count": 29,
   "id": "2b0eab2d",
   "metadata": {},
   "outputs": [
    {
     "name": "stdout",
     "output_type": "stream",
     "text": [
      "La especie con los pétalos de mayor longitud es: virginica\n"
     ]
    }
   ],
   "source": [
    "print(\"La especie con los pétalos de mayor longitud es:\", species_names[indice_max_promedio_petal_length])"
   ]
  },
  {
   "cell_type": "markdown",
   "id": "496f9a20",
   "metadata": {},
   "source": [
    "# Ejercicio 7"
   ]
  },
  {
   "cell_type": "code",
   "execution_count": 30,
   "id": "496194a4",
   "metadata": {},
   "outputs": [
    {
     "name": "stdout",
     "output_type": "stream",
     "text": [
      "Matriz con correlación \n",
      " [[ 1.         -0.11756978  0.87175378  0.81794113  0.78256123]\n",
      " [-0.11756978  1.         -0.4284401  -0.36612593 -0.42665756]\n",
      " [ 0.87175378 -0.4284401   1.          0.96286543  0.9490347 ]\n",
      " [ 0.81794113 -0.36612593  0.96286543  1.          0.95654733]\n",
      " [ 0.78256123 -0.42665756  0.9490347   0.95654733  1.        ]]\n"
     ]
    }
   ],
   "source": [
    "print (\"Matriz con correlación \\n\", np.corrcoef(concat, rowvar=False))"
   ]
  },
  {
   "cell_type": "code",
   "execution_count": 31,
   "id": "84dba9de",
   "metadata": {},
   "outputs": [
    {
     "data": {
      "text/plain": [
       "array([[7. , 3.2, 4.7, 1.4],\n",
       "       [6.4, 3.2, 4.5, 1.5],\n",
       "       [6.9, 3.1, 4.9, 1.5],\n",
       "       [5.5, 2.3, 4. , 1.3],\n",
       "       [6.5, 2.8, 4.6, 1.5],\n",
       "       [5.7, 2.8, 4.5, 1.3],\n",
       "       [6.3, 3.3, 4.7, 1.6],\n",
       "       [6.6, 2.9, 4.6, 1.3],\n",
       "       [5.2, 2.7, 3.9, 1.4],\n",
       "       [5.9, 3. , 4.2, 1.5],\n",
       "       [6. , 2.2, 4. , 1. ],\n",
       "       [6.1, 2.9, 4.7, 1.4],\n",
       "       [6.7, 3.1, 4.4, 1.4],\n",
       "       [5.6, 3. , 4.5, 1.5],\n",
       "       [5.8, 2.7, 4.1, 1. ],\n",
       "       [6.2, 2.2, 4.5, 1.5],\n",
       "       [5.6, 2.5, 3.9, 1.1],\n",
       "       [5.9, 3.2, 4.8, 1.8],\n",
       "       [6.1, 2.8, 4. , 1.3],\n",
       "       [6.3, 2.5, 4.9, 1.5],\n",
       "       [6.1, 2.8, 4.7, 1.2],\n",
       "       [6.4, 2.9, 4.3, 1.3],\n",
       "       [6.6, 3. , 4.4, 1.4],\n",
       "       [6.8, 2.8, 4.8, 1.4],\n",
       "       [6.7, 3. , 5. , 1.7],\n",
       "       [6. , 2.9, 4.5, 1.5],\n",
       "       [5.5, 2.4, 3.8, 1.1],\n",
       "       [5.8, 2.7, 3.9, 1.2],\n",
       "       [6. , 2.7, 5.1, 1.6],\n",
       "       [5.4, 3. , 4.5, 1.5],\n",
       "       [6. , 3.4, 4.5, 1.6],\n",
       "       [6.7, 3.1, 4.7, 1.5],\n",
       "       [6.3, 2.3, 4.4, 1.3],\n",
       "       [5.6, 3. , 4.1, 1.3],\n",
       "       [5.5, 2.5, 4. , 1.3],\n",
       "       [5.5, 2.6, 4.4, 1.2],\n",
       "       [6.1, 3. , 4.6, 1.4],\n",
       "       [5.8, 2.6, 4. , 1.2],\n",
       "       [5.6, 2.7, 4.2, 1.3],\n",
       "       [5.7, 3. , 4.2, 1.2],\n",
       "       [5.7, 2.9, 4.2, 1.3],\n",
       "       [6.2, 2.9, 4.3, 1.3],\n",
       "       [5.7, 2.8, 4.1, 1.3],\n",
       "       [6.3, 3.3, 6. , 2.5],\n",
       "       [5.8, 2.7, 5.1, 1.9],\n",
       "       [7.1, 3. , 5.9, 2.1],\n",
       "       [6.3, 2.9, 5.6, 1.8],\n",
       "       [6.5, 3. , 5.8, 2.2],\n",
       "       [7.6, 3. , 6.6, 2.1],\n",
       "       [4.9, 2.5, 4.5, 1.7],\n",
       "       [7.3, 2.9, 6.3, 1.8],\n",
       "       [6.7, 2.5, 5.8, 1.8],\n",
       "       [7.2, 3.6, 6.1, 2.5],\n",
       "       [6.5, 3.2, 5.1, 2. ],\n",
       "       [6.4, 2.7, 5.3, 1.9],\n",
       "       [6.8, 3. , 5.5, 2.1],\n",
       "       [5.7, 2.5, 5. , 2. ],\n",
       "       [5.8, 2.8, 5.1, 2.4],\n",
       "       [6.4, 3.2, 5.3, 2.3],\n",
       "       [6.5, 3. , 5.5, 1.8],\n",
       "       [7.7, 3.8, 6.7, 2.2],\n",
       "       [7.7, 2.6, 6.9, 2.3],\n",
       "       [6. , 2.2, 5. , 1.5],\n",
       "       [6.9, 3.2, 5.7, 2.3],\n",
       "       [5.6, 2.8, 4.9, 2. ],\n",
       "       [7.7, 2.8, 6.7, 2. ],\n",
       "       [6.3, 2.7, 4.9, 1.8],\n",
       "       [6.7, 3.3, 5.7, 2.1],\n",
       "       [7.2, 3.2, 6. , 1.8],\n",
       "       [6.2, 2.8, 4.8, 1.8],\n",
       "       [6.1, 3. , 4.9, 1.8],\n",
       "       [6.4, 2.8, 5.6, 2.1],\n",
       "       [7.2, 3. , 5.8, 1.6],\n",
       "       [7.4, 2.8, 6.1, 1.9],\n",
       "       [7.9, 3.8, 6.4, 2. ],\n",
       "       [6.4, 2.8, 5.6, 2.2],\n",
       "       [6.3, 2.8, 5.1, 1.5],\n",
       "       [6.1, 2.6, 5.6, 1.4],\n",
       "       [7.7, 3. , 6.1, 2.3],\n",
       "       [6.3, 3.4, 5.6, 2.4],\n",
       "       [6.4, 3.1, 5.5, 1.8],\n",
       "       [6. , 3. , 4.8, 1.8],\n",
       "       [6.9, 3.1, 5.4, 2.1],\n",
       "       [6.7, 3.1, 5.6, 2.4],\n",
       "       [6.9, 3.1, 5.1, 2.3],\n",
       "       [5.8, 2.7, 5.1, 1.9],\n",
       "       [6.8, 3.2, 5.9, 2.3],\n",
       "       [6.7, 3.3, 5.7, 2.5],\n",
       "       [6.7, 3. , 5.2, 2.3],\n",
       "       [6.3, 2.5, 5. , 1.9],\n",
       "       [6.5, 3. , 5.2, 2. ],\n",
       "       [6.2, 3.4, 5.4, 2.3],\n",
       "       [5.9, 3. , 5.1, 1.8]])"
      ]
     },
     "execution_count": 31,
     "metadata": {},
     "output_type": "execute_result"
    }
   ],
   "source": [
    "data[data[:, petal_length_index] > media_petalos]"
   ]
  },
  {
   "cell_type": "code",
   "execution_count": 39,
   "id": "3e34717e",
   "metadata": {},
   "outputs": [],
   "source": [
    "indice_petalos = np.argmax(data[:, petal_length_index])"
   ]
  },
  {
   "cell_type": "code",
   "execution_count": 40,
   "id": "987b1d10",
   "metadata": {},
   "outputs": [
    {
     "name": "stdout",
     "output_type": "stream",
     "text": [
      "Los petalos más grandes de cada muestra [7.7 2.6 6.9 2.3]\n"
     ]
    }
   ],
   "source": [
    "print (\"Los petalos más grandes de cada muestra\", data[indice_petalos, :])"
   ]
  },
  {
   "cell_type": "markdown",
   "id": "29f141f2",
   "metadata": {},
   "source": [
    "# Ejercicio 8"
   ]
  },
  {
   "cell_type": "code",
   "execution_count": 34,
   "id": "d7c05f52",
   "metadata": {},
   "outputs": [],
   "source": [
    "diferencia_medias = np.abs(media_sepalos - media_petalos)"
   ]
  },
  {
   "cell_type": "code",
   "execution_count": 35,
   "id": "6c00e435",
   "metadata": {},
   "outputs": [],
   "source": [
    "indice_especie_max_diferencia = np.argmax(diferencia_medias)"
   ]
  },
  {
   "cell_type": "code",
   "execution_count": 36,
   "id": "3895e275",
   "metadata": {},
   "outputs": [
    {
     "name": "stdout",
     "output_type": "stream",
     "text": [
      "Especie con la mayor diferencia entre longitud media de sépalos y pétalos: setosa\n"
     ]
    }
   ],
   "source": [
    "print(\"Especie con la mayor diferencia entre longitud media de sépalos y pétalos:\", species_names[indice_especie_max_diferencia])"
   ]
  }
 ],
 "metadata": {
  "kernelspec": {
   "display_name": "Python 3 (ipykernel)",
   "language": "python",
   "name": "python3"
  },
  "language_info": {
   "codemirror_mode": {
    "name": "ipython",
    "version": 3
   },
   "file_extension": ".py",
   "mimetype": "text/x-python",
   "name": "python",
   "nbconvert_exporter": "python",
   "pygments_lexer": "ipython3",
   "version": "3.9.13"
  }
 },
 "nbformat": 4,
 "nbformat_minor": 5
}
